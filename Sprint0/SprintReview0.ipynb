{
 "cells": [
  {
   "cell_type": "code",
   "execution_count": 23,
   "metadata": {
    "dotnet_interactive": {
     "language": "csharp"
    },
    "polyglot_notebook": {
     "kernelName": "csharp"
    },
    "vscode": {
     "languageId": "polyglot-notebook"
    }
   },
   "outputs": [
    {
     "name": "stdout",
     "output_type": "stream",
     "text": [
      "-----------------------\n",
      "Тюльпан: тип цветок, рост цветка 13 см, распустилось лепестками оранжевого цвета, кол-во лепестков 11\n",
      "Растение увядает\n",
      "-----------------------\n",
      "Сирень: тип дерево, выросло на 63 см, расцвело и покрылось цветами, тип листьев перисто-раздельные\n",
      "Данное дерево Сирень росло еще 5 лет и теперь его возраст 25\n"
     ]
    }
   ],
   "source": [
    "public class Plant \n",
    "{\n",
    "    public string Name {get; set;}\n",
    "    public string Type {get; set;}\n",
    "    public float Height {get; set;}\n",
    "\n",
    "    public Plant(string name, string type,float height)\n",
    "        {\n",
    "            Name=name;\n",
    "            Type=type;\n",
    "            Height=height;\n",
    "        }\n",
    "\n",
    "    public virtual void Blooming() \n",
    "        {\n",
    "        Console.WriteLine($\"Растение {Name} цветет\");\n",
    "        }\n",
    "\n",
    "    public void get_height(float Height)\n",
    "        {\n",
    "        Console.WriteLine($\"Растение {Name} выросло на {Height} см\");\n",
    "        }\n",
    "}\n",
    "\n",
    "public class Flower : Plant\n",
    "{  \n",
    "    public string Color {get; set;}\n",
    "    public int countLep {get; set;}\n",
    "\n",
    "    public Flower(string name, string type, float height, string color, int countlep): base(name, type, height)\n",
    "        {\n",
    "            Color=color;\n",
    "            countLep=countlep;\n",
    "        }\n",
    "\n",
    "    public override void Blooming()\n",
    "        {\n",
    "            Console.WriteLine($\"{Name}: тип {Type}, рост цветка {Height} см, распустилось лепестками {Color} цвета, кол-во лепестков {countLep}\");\n",
    "        }\n",
    "\n",
    "    public void Death()\n",
    "        {\n",
    "            Console.WriteLine($\"Растение увядает\");\n",
    "        }\n",
    "}\n",
    "\n",
    "public class Tree : Plant \n",
    "{\n",
    "    public int Age{get; set;}\n",
    "    public string TypeLeaf{get;set;}\n",
    "\n",
    "    public override void Blooming()\n",
    "        {\n",
    "        Console.WriteLine($\"{Name}: тип {Type}, выросло на {Height} см, расцвело и покрылось цветами, тип листьев {TypeLeaf}\");\n",
    "        }\n",
    "\n",
    "    public Tree(string name, string type,float height, int age, string typeLeaf): base(name, type, height)\n",
    "        {\n",
    "            Age=age;\n",
    "            TypeLeaf=typeLeaf;\n",
    "        }\n",
    "\n",
    "    public void AddAge (int age)\n",
    "        {\n",
    "        Age+=age;\n",
    "        Console.WriteLine($\"Данное дерево {Name} росло еще {age} лет и теперь его возраст {Age}\");\n",
    "        }\n",
    "}\n",
    "\n",
    "Console.WriteLine(\"-----------------------\");\n",
    "\n",
    "Flower Tulip = new Flower(\"Тюльпан\", \"цветок\", 13, \"оранжевого\", 11);\n",
    "Tulip.Blooming();\n",
    "Tulip.Death();\n",
    "\n",
    "Console.WriteLine(\"-----------------------\");\n",
    "\n",
    "Tree Lilac = new Tree(\"Сирень\", \"дерево\", 63, 20, \"перисто-раздельные\");\n",
    "Lilac.Blooming();\n",
    "Lilac.AddAge(5);"
   ]
  }
 ],
 "metadata": {
  "kernelspec": {
   "display_name": ".NET (C#)",
   "language": "C#",
   "name": ".net-csharp"
  },
  "language_info": {
   "name": "csharp"
  },
  "polyglot_notebook": {
   "kernelInfo": {
    "defaultKernelName": "csharp",
    "items": [
     {
      "aliases": [],
      "name": "csharp"
     }
    ]
   }
  }
 },
 "nbformat": 4,
 "nbformat_minor": 2
}
